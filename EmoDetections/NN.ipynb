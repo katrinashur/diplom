{
 "cells": [
  {
   "cell_type": "markdown",
   "metadata": {},
   "source": [
    "# Emotion and identity detection from face images\n",
    "\n"
   ]
  },
  {
   "cell_type": "markdown",
   "metadata": {},
   "source": [
    "## load dataset"
   ]
  },
  {
   "cell_type": "code",
   "execution_count": 1,
   "metadata": {},
   "outputs": [
    {
     "data": {
      "text/plain": [
       "Index(['Emotion', 'Pixels'], dtype='object')"
      ]
     },
     "execution_count": 1,
     "metadata": {},
     "output_type": "execute_result"
    }
   ],
   "source": [
    "import numpy as np # linear algebra\n",
    "import pandas as pd # data processing, CSV file I/O (e.g. pd.read_csv)\n",
    "\n",
    "train = pd.read_csv(\"./data/train.csv\");\n",
    "test = pd.read_csv(\"./data/test.csv\");\n",
    "train_identity = pd.read_csv(\"./data/train_identity.csv\");\n",
    "\n",
    "train.columns "
   ]
  },
  {
   "cell_type": "code",
   "execution_count": 12,
   "metadata": {},
   "outputs": [
    {
     "data": {
      "text/plain": [
       "<matplotlib.axes._subplots.AxesSubplot at 0x1cf8fa9f128>"
      ]
     },
     "execution_count": 12,
     "metadata": {},
     "output_type": "execute_result"
    },
    {
     "data": {
      "image/png": "[encoded data removed]",
      "text/plain": [
       "<Figure size 432x288 with 2 Axes>"
      ]
     },
     "metadata": {
      "needs_background": "light"
     },
     "output_type": "display_data"
    }
   ],
   "source": [
    "import seaborn as sns;\n",
    "trainNP = np.array(train[\"Pixels\"][0].split(' '), int).reshape((48,48))\n",
    "sns.heatmap(trainNP)"
   ]
  },
  {
   "cell_type": "code",
   "execution_count": 3,
   "metadata": {},
   "outputs": [],
   "source": [
    "import matplotlib.pyplot as plt\n",
    "import sklearn\n",
    "from sklearn.model_selection import train_test_split\n",
    "from sklearn.metrics import mean_squared_error"
   ]
  },
  {
   "cell_type": "code",
   "execution_count": 21,
   "metadata": {},
   "outputs": [],
   "source": [
    "X = [];\n",
    "for frame in train[\"Pixels\"]:\n",
    "    X.append(np.array( [float(n)/255  for n in frame.split(' ')], float))\n",
    "    print\n",
    "X = np.array(X)"
   ]
  },
  {
   "cell_type": "code",
   "execution_count": 22,
   "metadata": {},
   "outputs": [],
   "source": [
    "Y = train[\"Emotion\"].values"
   ]
  },
  {
   "cell_type": "code",
   "execution_count": 23,
   "metadata": {},
   "outputs": [
    {
     "name": "stdout",
     "output_type": "stream",
     "text": [
      "(2924, 2304)\n",
      "(1254, 2304)\n",
      "(2924,)\n",
      "(1254,)\n"
     ]
    }
   ],
   "source": [
    "X_train, X_test, y_train, y_test = train_test_split(X, Y, test_size=0.30, random_state=40)\n",
    "print(X_train.shape); print(X_test.shape)\n",
    "print(y_train.shape); print(y_test.shape)"
   ]
  },
  {
   "cell_type": "code",
   "execution_count": 24,
   "metadata": {},
   "outputs": [],
   "source": [
    "# Keras specific\n",
    "import keras\n",
    "from keras.models import Sequential\n",
    "from keras.layers import Dense\n",
    "from keras.utils import to_categorical"
   ]
  },
  {
   "cell_type": "code",
   "execution_count": 25,
   "metadata": {},
   "outputs": [
    {
     "name": "stdout",
     "output_type": "stream",
     "text": [
      "7\n"
     ]
    }
   ],
   "source": [
    "y_train = to_categorical(y_train)\n",
    "y_test = to_categorical(y_test)\n",
    "\n",
    "count_classes = y_test.shape[1]\n",
    "print(count_classes)"
   ]
  },
  {
   "cell_type": "code",
   "execution_count": 49,
   "metadata": {},
   "outputs": [],
   "source": [
    "model = Sequential()\n",
    "model.add(Dense(700, activation='relu', input_dim=48*48))\n",
    "model.add(Dense(250, activation='relu'))\n",
    "model.add(Dense(100, activation='relu'))\n",
    "model.add(Dense(50, activation='relu'))\n",
    "model.add(Dense(7, activation='softmax'))\n",
    "\n",
    "# Compile the model\n",
    "model.compile(optimizer='adam', \n",
    "              loss='categorical_crossentropy', \n",
    "              metrics=['accuracy'])"
   ]
  },
  {
   "cell_type": "code",
   "execution_count": 53,
   "metadata": {},
   "outputs": [
    {
     "name": "stdout",
     "output_type": "stream",
     "text": [
      "Epoch 1/40\n",
      "2924/2924 [==============================] - 1s 370us/step - loss: 0.6762 - acc: 0.7517\n",
      "Epoch 2/40\n",
      "2924/2924 [==============================] - 1s 222us/step - loss: 0.7109 - acc: 0.7459\n",
      "Epoch 3/40\n",
      "2924/2924 [==============================] - 1s 223us/step - loss: 0.6681 - acc: 0.7579\n",
      "Epoch 4/40\n",
      "2924/2924 [==============================] - 1s 224us/step - loss: 0.6744 - acc: 0.7558\n",
      "Epoch 5/40\n",
      "2924/2924 [==============================] - 1s 222us/step - loss: 0.7060 - acc: 0.7442\n",
      "Epoch 6/40\n",
      "2924/2924 [==============================] - 1s 225us/step - loss: 0.6186 - acc: 0.7681\n",
      "Epoch 7/40\n",
      "2924/2924 [==============================] - 1s 224us/step - loss: 0.5974 - acc: 0.7815\n",
      "Epoch 8/40\n",
      "2924/2924 [==============================] - 1s 224us/step - loss: 0.6167 - acc: 0.7743\n",
      "Epoch 9/40\n",
      "2924/2924 [==============================] - 1s 229us/step - loss: 0.6549 - acc: 0.7616\n",
      "Epoch 10/40\n",
      "2924/2924 [==============================] - 1s 220us/step - loss: 0.6083 - acc: 0.7801\n",
      "Epoch 11/40\n",
      "2924/2924 [==============================] - 1s 223us/step - loss: 0.5926 - acc: 0.7869\n",
      "Epoch 12/40\n",
      "2924/2924 [==============================] - 1s 223us/step - loss: 0.6061 - acc: 0.7733\n",
      "Epoch 13/40\n",
      "2924/2924 [==============================] - 1s 214us/step - loss: 0.5421 - acc: 0.8020\n",
      "Epoch 14/40\n",
      "2924/2924 [==============================] - 1s 219us/step - loss: 0.5840 - acc: 0.7876\n",
      "Epoch 15/40\n",
      "2924/2924 [==============================] - 1s 219us/step - loss: 0.5826 - acc: 0.7801\n",
      "Epoch 16/40\n",
      "2924/2924 [==============================] - 1s 225us/step - loss: 0.5712 - acc: 0.8016\n",
      "Epoch 17/40\n",
      "2924/2924 [==============================] - 1s 223us/step - loss: 0.5521 - acc: 0.7969\n",
      "Epoch 18/40\n",
      "2924/2924 [==============================] - 1s 221us/step - loss: 0.5014 - acc: 0.8170\n",
      "Epoch 19/40\n",
      "2924/2924 [==============================] - 1s 223us/step - loss: 0.4867 - acc: 0.8187\n",
      "Epoch 20/40\n",
      "2924/2924 [==============================] - 1s 226us/step - loss: 0.5760 - acc: 0.7818\n",
      "Epoch 21/40\n",
      "2924/2924 [==============================] - 1s 228us/step - loss: 0.5029 - acc: 0.8225\n",
      "Epoch 22/40\n",
      "2924/2924 [==============================] - 1s 227us/step - loss: 0.5379 - acc: 0.8010\n",
      "Epoch 23/40\n",
      "2924/2924 [==============================] - 1s 225us/step - loss: 0.4528 - acc: 0.8348\n",
      "Epoch 24/40\n",
      "2924/2924 [==============================] - 1s 226us/step - loss: 0.5259 - acc: 0.8109\n",
      "Epoch 25/40\n",
      "2924/2924 [==============================] - 1s 228us/step - loss: 0.4544 - acc: 0.8334\n",
      "Epoch 26/40\n",
      "2924/2924 [==============================] - 1s 223us/step - loss: 0.4696 - acc: 0.8252\n",
      "Epoch 27/40\n",
      "2924/2924 [==============================] - 1s 226us/step - loss: 0.4427 - acc: 0.8406\n",
      "Epoch 28/40\n",
      "2924/2924 [==============================] - 1s 221us/step - loss: 0.4700 - acc: 0.8324\n",
      "Epoch 29/40\n",
      "2924/2924 [==============================] - 1s 228us/step - loss: 0.4735 - acc: 0.8228\n",
      "Epoch 30/40\n",
      "2924/2924 [==============================] - 1s 222us/step - loss: 0.4372 - acc: 0.8331\n",
      "Epoch 31/40\n",
      "2924/2924 [==============================] - 1s 224us/step - loss: 0.4415 - acc: 0.8403\n",
      "Epoch 32/40\n",
      "2924/2924 [==============================] - 1s 224us/step - loss: 0.4177 - acc: 0.8492\n",
      "Epoch 33/40\n",
      "2924/2924 [==============================] - 1s 224us/step - loss: 0.4073 - acc: 0.8440\n",
      "Epoch 34/40\n",
      "2924/2924 [==============================] - 1s 221us/step - loss: 0.4178 - acc: 0.8519\n",
      "Epoch 35/40\n",
      "2924/2924 [==============================] - 1s 223us/step - loss: 0.4921 - acc: 0.8198\n",
      "Epoch 36/40\n",
      "2924/2924 [==============================] - 1s 226us/step - loss: 0.3852 - acc: 0.8550\n",
      "Epoch 37/40\n",
      "2924/2924 [==============================] - 1s 223us/step - loss: 0.3445 - acc: 0.8724\n",
      "Epoch 38/40\n",
      "2924/2924 [==============================] - 1s 228us/step - loss: 0.4297 - acc: 0.8430\n",
      "Epoch 39/40\n",
      "2924/2924 [==============================] - 1s 223us/step - loss: 0.3799 - acc: 0.8622\n",
      "Epoch 40/40\n",
      "2924/2924 [==============================] - 1s 223us/step - loss: 0.4108 - acc: 0.8526\n"
     ]
    },
    {
     "data": {
      "text/plain": [
       "<keras.callbacks.History at 0x1cf639c3ac8>"
      ]
     },
     "execution_count": 53,
     "metadata": {},
     "output_type": "execute_result"
    }
   ],
   "source": [
    "# build the model\n",
    "model.fit(X_train, y_train, epochs=40)"
   ]
  },
  {
   "cell_type": "code",
   "execution_count": 54,
   "metadata": {},
   "outputs": [
    {
     "name": "stdout",
     "output_type": "stream",
     "text": [
      "Accuracy on training data: 0.8885088920104031% \n",
      " Error on training data: 0.11149110798959694\n",
      "Accuracy on test data: 0.6985645932063722% \n",
      " Error on test data: 0.3014354067936278\n"
     ]
    }
   ],
   "source": [
    "pred_train= model.predict(X_train)\n",
    "scores = model.evaluate(X_train, y_train, verbose=0)\n",
    "print('Accuracy on training data: {}% \\n Error on training data: {}'.format(scores[1], 1 - scores[1]))   \n",
    " \n",
    "pred_test= model.predict(X_test)\n",
    "scores2 = model.evaluate(X_test, y_test, verbose=0)\n",
    "print('Accuracy on test data: {}% \\n Error on test data: {}'.format(scores2[1], 1 - scores2[1]))    "
   ]
  },
  {
   "cell_type": "code",
   "execution_count": 65,
   "metadata": {},
   "outputs": [
    {
     "data": {
      "text/plain": [
       "array([[0.37647059, 0.37254902, 0.39215686, ..., 0.28627451, 0.04705882,\n",
       "        0.01176471],\n",
       "       [0.4       , 0.42745098, 0.41568627, ..., 0.36078431, 0.32941176,\n",
       "        0.30588235],\n",
       "       [0.44313725, 0.45882353, 0.38431373, ..., 0.30980392, 0.56470588,\n",
       "        0.75686275],\n",
       "       ...,\n",
       "       [0.31372549, 0.38039216, 0.29019608, ..., 0.49803922, 0.50980392,\n",
       "        0.50588235],\n",
       "       [0.75294118, 0.74509804, 0.78431373, ..., 0.3372549 , 0.28627451,\n",
       "        0.28627451],\n",
       "       [0.55294118, 0.58431373, 0.60784314, ..., 0.0627451 , 0.02352941,\n",
       "        0.06666667]])"
      ]
     },
     "execution_count": 65,
     "metadata": {},
     "output_type": "execute_result"
    }
   ],
   "source": [
    "X_train"
   ]
  },
  {
   "cell_type": "code",
   "execution_count": 66,
   "metadata": {},
   "outputs": [
    {
     "data": {
      "text/plain": [
       "2304"
      ]
     },
     "execution_count": 66,
     "metadata": {},
     "output_type": "execute_result"
    }
   ],
   "source": [
    "x = np.array(np.array([float(n)/255  for n in frame.split(' ')], float))\n",
    "x.size"
   ]
  },
  {
   "cell_type": "code",
   "execution_count": 67,
   "metadata": {},
   "outputs": [
    {
     "data": {
      "text/plain": [
       "array([0.59215686, 0.54117647, 0.50588235, ..., 0.51372549, 0.4627451 ,\n",
       "       0.5254902 ])"
      ]
     },
     "execution_count": 67,
     "metadata": {},
     "output_type": "execute_result"
    }
   ],
   "source": [
    "x"
   ]
  },
  {
   "cell_type": "code",
   "execution_count": 74,
   "metadata": {},
   "outputs": [],
   "source": [
    "import json\n",
    "\n",
    "json_string = model.to_json()\n",
    "with open('sw_templates.json', 'w') as f:\n",
    "    f.write(json.dumps(json_string))"
   ]
  },
  {
   "cell_type": "code",
   "execution_count": 75,
   "metadata": {},
   "outputs": [],
   "source": [
    "model.save_weights('my_model_weights.h5')"
   ]
  },
  {
   "cell_type": "code",
   "execution_count": 76,
   "metadata": {},
   "outputs": [
    {
     "ename": "ValueError",
     "evalue": "Error when checking input: expected dense_33_input to have shape (2304,) but got array with shape (1,)",
     "output_type": "error",
     "traceback": [
      "\u001b[1;31m---------------------------------------------------------------------------\u001b[0m",
      "\u001b[1;31mValueError\u001b[0m                                Traceback (most recent call last)",
      "\u001b[1;32m<ipython-input-76-debfd665a8fb>\u001b[0m in \u001b[0;36m<module>\u001b[1;34m\u001b[0m\n\u001b[1;32m----> 1\u001b[1;33m \u001b[0mmodel\u001b[0m\u001b[1;33m.\u001b[0m\u001b[0mpredict\u001b[0m\u001b[1;33m(\u001b[0m\u001b[0mnp\u001b[0m\u001b[1;33m.\u001b[0m\u001b[0marray\u001b[0m\u001b[1;33m(\u001b[0m\u001b[1;33m[\u001b[0m\u001b[0mfloat\u001b[0m\u001b[1;33m(\u001b[0m\u001b[0mn\u001b[0m\u001b[1;33m)\u001b[0m\u001b[1;33m/\u001b[0m\u001b[1;36m255\u001b[0m  \u001b[1;32mfor\u001b[0m \u001b[0mn\u001b[0m \u001b[1;32min\u001b[0m  \u001b[0mtrain\u001b[0m\u001b[1;33m[\u001b[0m\u001b[1;34m\"Pixels\"\u001b[0m\u001b[1;33m]\u001b[0m\u001b[1;33m[\u001b[0m\u001b[1;36m0\u001b[0m\u001b[1;33m]\u001b[0m\u001b[1;33m.\u001b[0m\u001b[0msplit\u001b[0m\u001b[1;33m(\u001b[0m\u001b[1;34m' '\u001b[0m\u001b[1;33m)\u001b[0m\u001b[1;33m]\u001b[0m\u001b[1;33m,\u001b[0m \u001b[0mfloat\u001b[0m\u001b[1;33m)\u001b[0m\u001b[1;33m)\u001b[0m\u001b[1;33m\u001b[0m\u001b[1;33m\u001b[0m\u001b[0m\n\u001b[0m",
      "\u001b[1;32mD:\\ProgramData\\Anaconda3\\lib\\site-packages\\keras\\engine\\training.py\u001b[0m in \u001b[0;36mpredict\u001b[1;34m(self, x, batch_size, verbose, steps)\u001b[0m\n\u001b[0;32m   1147\u001b[0m                              'argument.')\n\u001b[0;32m   1148\u001b[0m         \u001b[1;31m# Validate user data.\u001b[0m\u001b[1;33m\u001b[0m\u001b[1;33m\u001b[0m\u001b[1;33m\u001b[0m\u001b[0m\n\u001b[1;32m-> 1149\u001b[1;33m         \u001b[0mx\u001b[0m\u001b[1;33m,\u001b[0m \u001b[0m_\u001b[0m\u001b[1;33m,\u001b[0m \u001b[0m_\u001b[0m \u001b[1;33m=\u001b[0m \u001b[0mself\u001b[0m\u001b[1;33m.\u001b[0m\u001b[0m_standardize_user_data\u001b[0m\u001b[1;33m(\u001b[0m\u001b[0mx\u001b[0m\u001b[1;33m)\u001b[0m\u001b[1;33m\u001b[0m\u001b[1;33m\u001b[0m\u001b[0m\n\u001b[0m\u001b[0;32m   1150\u001b[0m         \u001b[1;32mif\u001b[0m \u001b[0mself\u001b[0m\u001b[1;33m.\u001b[0m\u001b[0mstateful\u001b[0m\u001b[1;33m:\u001b[0m\u001b[1;33m\u001b[0m\u001b[1;33m\u001b[0m\u001b[0m\n\u001b[0;32m   1151\u001b[0m             \u001b[1;32mif\u001b[0m \u001b[0mx\u001b[0m\u001b[1;33m[\u001b[0m\u001b[1;36m0\u001b[0m\u001b[1;33m]\u001b[0m\u001b[1;33m.\u001b[0m\u001b[0mshape\u001b[0m\u001b[1;33m[\u001b[0m\u001b[1;36m0\u001b[0m\u001b[1;33m]\u001b[0m \u001b[1;33m>\u001b[0m \u001b[0mbatch_size\u001b[0m \u001b[1;32mand\u001b[0m \u001b[0mx\u001b[0m\u001b[1;33m[\u001b[0m\u001b[1;36m0\u001b[0m\u001b[1;33m]\u001b[0m\u001b[1;33m.\u001b[0m\u001b[0mshape\u001b[0m\u001b[1;33m[\u001b[0m\u001b[1;36m0\u001b[0m\u001b[1;33m]\u001b[0m \u001b[1;33m%\u001b[0m \u001b[0mbatch_size\u001b[0m \u001b[1;33m!=\u001b[0m \u001b[1;36m0\u001b[0m\u001b[1;33m:\u001b[0m\u001b[1;33m\u001b[0m\u001b[1;33m\u001b[0m\u001b[0m\n",
      "\u001b[1;32mD:\\ProgramData\\Anaconda3\\lib\\site-packages\\keras\\engine\\training.py\u001b[0m in \u001b[0;36m_standardize_user_data\u001b[1;34m(self, x, y, sample_weight, class_weight, check_array_lengths, batch_size)\u001b[0m\n\u001b[0;32m    749\u001b[0m             \u001b[0mfeed_input_shapes\u001b[0m\u001b[1;33m,\u001b[0m\u001b[1;33m\u001b[0m\u001b[1;33m\u001b[0m\u001b[0m\n\u001b[0;32m    750\u001b[0m             \u001b[0mcheck_batch_axis\u001b[0m\u001b[1;33m=\u001b[0m\u001b[1;32mFalse\u001b[0m\u001b[1;33m,\u001b[0m  \u001b[1;31m# Don't enforce the batch size.\u001b[0m\u001b[1;33m\u001b[0m\u001b[1;33m\u001b[0m\u001b[0m\n\u001b[1;32m--> 751\u001b[1;33m             exception_prefix='input')\n\u001b[0m\u001b[0;32m    752\u001b[0m \u001b[1;33m\u001b[0m\u001b[0m\n\u001b[0;32m    753\u001b[0m         \u001b[1;32mif\u001b[0m \u001b[0my\u001b[0m \u001b[1;32mis\u001b[0m \u001b[1;32mnot\u001b[0m \u001b[1;32mNone\u001b[0m\u001b[1;33m:\u001b[0m\u001b[1;33m\u001b[0m\u001b[1;33m\u001b[0m\u001b[0m\n",
      "\u001b[1;32mD:\\ProgramData\\Anaconda3\\lib\\site-packages\\keras\\engine\\training_utils.py\u001b[0m in \u001b[0;36mstandardize_input_data\u001b[1;34m(data, names, shapes, check_batch_axis, exception_prefix)\u001b[0m\n\u001b[0;32m    136\u001b[0m                             \u001b[1;34m': expected '\u001b[0m \u001b[1;33m+\u001b[0m \u001b[0mnames\u001b[0m\u001b[1;33m[\u001b[0m\u001b[0mi\u001b[0m\u001b[1;33m]\u001b[0m \u001b[1;33m+\u001b[0m \u001b[1;34m' to have shape '\u001b[0m \u001b[1;33m+\u001b[0m\u001b[1;33m\u001b[0m\u001b[1;33m\u001b[0m\u001b[0m\n\u001b[0;32m    137\u001b[0m                             \u001b[0mstr\u001b[0m\u001b[1;33m(\u001b[0m\u001b[0mshape\u001b[0m\u001b[1;33m)\u001b[0m \u001b[1;33m+\u001b[0m \u001b[1;34m' but got array with shape '\u001b[0m \u001b[1;33m+\u001b[0m\u001b[1;33m\u001b[0m\u001b[1;33m\u001b[0m\u001b[0m\n\u001b[1;32m--> 138\u001b[1;33m                             str(data_shape))\n\u001b[0m\u001b[0;32m    139\u001b[0m     \u001b[1;32mreturn\u001b[0m \u001b[0mdata\u001b[0m\u001b[1;33m\u001b[0m\u001b[1;33m\u001b[0m\u001b[0m\n\u001b[0;32m    140\u001b[0m \u001b[1;33m\u001b[0m\u001b[0m\n",
      "\u001b[1;31mValueError\u001b[0m: Error when checking input: expected dense_33_input to have shape (2304,) but got array with shape (1,)"
     ]
    }
   ],
   "source": [
    " model.predict(np.array([float(n)/255  for n in  train[\"Pixels\"][0].split(' ')], float))"
   ]
  },
  {
   "cell_type": "code",
   "execution_count": 120,
   "metadata": {},
   "outputs": [
    {
     "name": "stdout",
     "output_type": "stream",
     "text": [
      "[0.00361931 0.16508725 0.575519   0.00970837 0.19528826 0.03833438\n",
      " 0.01244333]\n",
      "2\n"
     ]
    },
    {
     "data": {
      "text/plain": [
       "<matplotlib.axes._subplots.AxesSubplot at 0x1cfadc98438>"
      ]
     },
     "execution_count": 120,
     "metadata": {},
     "output_type": "execute_result"
    },
    {
     "data": {
      "image/png": "[encoded data removed]",
      "text/plain": [
       "<Figure size 432x288 with 2 Axes>"
      ]
     },
     "metadata": {
      "needs_background": "light"
     },
     "output_type": "display_data"
    }
   ],
   "source": [
    "n=999\n",
    "s = np.array([[float(n)/255 for n in  test[\"Pixels\"][n].split(' ')]])\n",
    "pred =model.predict(s)\n",
    "print(pred[0])\n",
    "print( np.argmax(pred[0]))\n",
    "sns.heatmap(np.array([float(n)/255 for n in  test[\"Pixels\"][n].split(' ')]).reshape((48,48)))\n",
    "#beween 0 and 6: anger=0, disgust=1, fear=2, happy=3, sad=4, surprise=5, neutral=6"
   ]
  },
  {
   "cell_type": "code",
   "execution_count": null,
   "metadata": {},
   "outputs": [],
   "source": []
  }
 ],
 "metadata": {
  "kernelspec": {
   "display_name": "Python 3",
   "language": "python",
   "name": "python3"
  },
  "language_info": {
   "codemirror_mode": {
    "name": "ipython",
    "version": 3
   },
   "file_extension": ".py",
   "mimetype": "text/x-python",
   "name": "python",
   "nbconvert_exporter": "python",
   "pygments_lexer": "ipython3",
   "version": "3.7.1"
  }
 },
 "nbformat": 4,
 "nbformat_minor": 2
}
